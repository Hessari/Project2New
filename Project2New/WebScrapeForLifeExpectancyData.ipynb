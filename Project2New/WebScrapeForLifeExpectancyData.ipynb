{
 "cells": [
  {
   "cell_type": "code",
   "execution_count": 514,
   "metadata": {},
   "outputs": [],
   "source": [
    "from splinter import Browser\n",
    "from bs4 import BeautifulSoup\n",
    "import pickle "
   ]
  },
  {
   "cell_type": "markdown",
   "metadata": {},
   "source": [
    "# Mac Users"
   ]
  },
  {
   "cell_type": "code",
   "execution_count": 515,
   "metadata": {},
   "outputs": [],
   "source": [
    "# https://splinter.readthedocs.io/en/latest/drivers/chrome.html\n",
    "#!which chromedriver"
   ]
  },
  {
   "cell_type": "code",
   "execution_count": 516,
   "metadata": {},
   "outputs": [],
   "source": [
    "#executable_path = {'executable_path': '/usr/local/bin/chromedriver'}\n",
    "#browser = Browser('chrome', **executable_path, headless=False)"
   ]
  },
  {
   "cell_type": "markdown",
   "metadata": {},
   "source": [
    "# Windows Users"
   ]
  },
  {
   "cell_type": "code",
   "execution_count": 517,
   "metadata": {},
   "outputs": [],
   "source": [
    "executable_path = {'executable_path': 'chromedriver.exe'}\n",
    "browser = Browser('chrome', **executable_path, headless=False)"
   ]
  },
  {
   "cell_type": "code",
   "execution_count": 518,
   "metadata": {},
   "outputs": [],
   "source": [
    "url = 'https://www.worldlifeexpectancy.com/world-rankings-total-deaths#WORLD%20RANKINGS'\n",
    "browser.visit(url)"
   ]
  },
  {
   "cell_type": "code",
   "execution_count": 519,
   "metadata": {},
   "outputs": [],
   "source": [
    "def ScrapeTableInfo(category=\"table\", typeof=\"class\", definition=\"cause_table_left\"):\n",
    "    # we always call soup because data needs to be reloaded to be fresh otherwise staled data\n",
    "    html = browser.html\n",
    "    soup = BeautifulSoup(html, 'html.parser')\n",
    "    #find_all(\"td\", {\"class\":\"hg_rn\"})\n",
    "    results = soup.find_all(category, {typeof:definition})\n",
    "    #print(results) #for debugging issue\n",
    "    # only care about the main table, so we return the main table\n",
    "    try:\n",
    "        return (results)\n",
    "    except:\n",
    "        return \"Error: Can't find the search item! Wrong definition?\"\n"
   ]
  },
  {
   "cell_type": "code",
   "execution_count": 520,
   "metadata": {},
   "outputs": [],
   "source": [
    "details = ScrapeTableInfo(*[\"table\", \"class\", \"hg_country_list_table\"])\n",
    "# need to be a tag to execute the next statement \n",
    "#details = Results ; details[0] = Tag\n",
    "#type(details[0]) \n",
    "country_list = details[0].find_all(\"td\", {\"class\":\"hg_rn\"})\n",
    "\n",
    "country_list = [(each.text).split(\"\\n\")[1] for each in country_list]\n",
    "country_list\n",
    "\n",
    "# get ISO code for each displayed country\n",
    "\n",
    "ISO= details[0].find_all(\"td\", {\"class\":\"hg_rf\"})\n",
    "ISO_Abbr = [str(each.find(\"img\")).split('/')[2].split('.')[0].upper() for each in ISO] \n",
    "\n",
    "# get expected life span for each displayed country\n",
    "lifeSpan= details[0].find_all(\"td\", {\"class\":\"hg_rrt\"})\n",
    "lifeSpan = [each.text for each in lifeSpan] \n",
    "#pair up IOS code per country\n",
    "scrapedAbbr = dict(zip(ISO_Abbr, country_list))\n",
    "\n",
    "#scrapedAbbr    "
   ]
  },
  {
   "cell_type": "code",
   "execution_count": 521,
   "metadata": {},
   "outputs": [],
   "source": [
    "backup = scrapedAbbr.copy()\n",
    "# need to correct some of countries mapping due incorrect naming\n",
    "\n",
    "correction = {'ARE':'UNITED ARAB EMIRATES', 'CAF':'CENTRAL AFRICAN REPUBLIC', 'ATG':'ANTIGUA AND BARBUDA', \n",
    " 'CIV':'IVORY COAST', 'IRL':'REPUBLIC OF IRELAND', 'BIH':'BOSNIA AND HERZEGOVINA', \n",
    " 'VNM':'VIETNAM', 'COG':'REPUBLIC OF THE CONGO', 'FSM':'FEDERATED STATES OF MICRONESIA',\n",
    " 'STP':'SÃO TOMÉ AND PRÍNCIPE', 'COD':'DEMOCRATIC REPUBLIC OF THE CONGO',\n",
    " 'GMB':'THE GAMBIA', 'VCT': 'SAINT VINCENT AND THE GRENADINES', 'GEO':'GEORGIA (COUNTRY)', \n",
    " 'MKD': 'NORTH MACEDONIA', 'SWZ':'ESWATINI', 'BHS': 'THE BAHAMAS', 'DOM':'DOMINICAN REPUBLIC',\n",
    " 'TTO': 'TRINIDAD AND TOBAGO', 'SLB': 'SOLOMON ISLANDS', 'TLS':'EAST TIMOR', 'PNG':'PAPUA NEW GUINEA',\n",
    " 'GNQ': 'EQUATORIAL GUINEA'}\n",
    "\n",
    "for abbr in correction:\n",
    "    backup[abbr]= correction[abbr]\n"
   ]
  },
  {
   "cell_type": "code",
   "execution_count": 522,
   "metadata": {},
   "outputs": [],
   "source": [
    "#scrapedAbbr"
   ]
  },
  {
   "cell_type": "code",
   "execution_count": 523,
   "metadata": {
    "scrolled": true
   },
   "outputs": [],
   "source": [
    "import time\n",
    "import random\n",
    "\n",
    "def getDataFromSite(listOfCountries, sampleSize=7):\n",
    "    print(listOfCountries)\n",
    "    collectedData = []\n",
    "    selection = sampleSize\n",
    "    \n",
    "    numCountries = range(1, len(listOfCountries)+1)\n",
    "    #reset the page into the orginal site prior to any clicks\n",
    "    browser.reload()\n",
    "    #the zip is mainly for debug purpose where we pair an incremental number with the country\n",
    "    for each, count in zip(listOfCountries, numCountries):\n",
    "        #print(each, count)  \n",
    "        try:\n",
    "            browser.click_link_by_partial_text(each)\n",
    "        except:\n",
    "            #might be issues here as we \n",
    "            alert = browser.get_alert()\n",
    "            print(alert.text)\n",
    "            alert.accept()\n",
    "            alert.dismiss()\n",
    "            browser.click_link_by_partial_text(\"OK\")\n",
    "            \n",
    "        time.sleep(random.uniform(0, 0.75))\n",
    "        if (count % selection == 0):\n",
    "            time.sleep(2)\n",
    "            #ScrapeTableInfo > category=\"table\", typeof=\"class\", definition=\"cause_table_left\"\n",
    "            collectedData.append(ScrapeTableInfo())\n",
    "            browser.reload()\n",
    "    collectedData.append(ScrapeTableInfo())\n",
    "    return collectedData\n",
    "\n"
   ]
  },
  {
   "cell_type": "code",
   "execution_count": 524,
   "metadata": {
    "scrolled": false
   },
   "outputs": [
    {
     "name": "stdout",
     "output_type": "stream",
     "text": [
      "['JAPAN', 'SWITZERLAND', 'SPAIN', 'SINGAPORE', 'FRANCE', 'AUSTRALIA', 'CANADA', 'ITALY', 'SOUTH KOREA', 'NORWAY', 'LUXEMBOURG', 'ICELAND', 'SWEDEN', 'ISRAEL', 'NEW ZEALAND', 'AUSTRIA', 'NETHERLANDS', 'IRELAND', 'PORTUGAL', 'MALTA', 'FINLAND', 'UNITED KINGDOM', 'DENMARK', 'BELGIUM', 'GREECE', 'GERMANY', 'SLOVENIA', 'CYPRUS', 'COSTA RICA', 'CHILE', 'CZECH REPUBLIC', 'BAHRAIN', 'CUBA', 'UNITED STATES', 'MALDIVES', 'CROATIA', 'QATAR', 'PANAMA', 'ESTONIA', 'POLAND', 'SLOVAKIA', 'BOSNIA/HERZEG.', 'ARAB EMIRATES', 'URUGUAY', 'OMAN', 'ARGENTINA', 'MONTENEGRO', 'MEXICO', 'ECUADOR', 'BRUNEI', 'CHINA', 'TURKEY', 'ALBANIA', 'ALGERIA', 'VIET NAM', 'SERBIA', 'LEBANON', 'TUNISIA', 'JAMAICA', 'HUNGARY', 'MOROCCO', 'PERU', 'MACEDONIA', 'IRAN', 'BAHAMAS', 'SAINT LUCIA', 'BARBADOS', 'NICARAGUA', 'THAILAND', 'SRI LANKA', 'MALAYSIA', 'ROMANIA', 'HONDURAS', 'BRAZIL', 'COLOMBIA', 'SAMOA', 'LITHUANIA', 'ANTIGUA/BAR.', 'LATVIA', 'BULGARIA', 'ARMENIA', 'MAURITIUS', 'KUWAIT', 'SAUDI ARABIA', 'JORDAN', 'PARAGUAY', 'BELARUS', 'VENEZUELA', 'EL SALVADOR', 'DOMINICAN REP.', 'TONGA', 'GRENADA', 'SEYCHELLES', 'GUATEMALA', 'CAPE VERDE', 'AZERBAIJAN', 'BANGLADESH', 'GEORGIA', 'UKRAINE', 'UZBEKISTAN', 'VANUATU', 'SAINT VINCENT', 'NORTH KOREA', 'LIBYA', 'RUSSIA', 'TRINIDAD/TOB.', 'SURINAME', 'BOLIVIA', 'MOLDOVA', 'KYRGYZSTAN', 'KAZAKHSTAN', 'SOLOMON ISL.', 'TAJIKISTAN', 'BHUTAN', 'EGYPT', 'BELIZE', 'NEPAL', 'FIJI', 'IRAQ', 'MONGOLIA', 'MICRONESIA', 'CAMBODIA', 'PHILIPPINES', 'INDONESIA', 'INDIA', 'SAO TOME', 'TIMOR-LESTE', 'TURKMENISTAN', 'RWANDA', 'MYANMAR', 'SENEGAL', 'KENYA', 'PAKISTAN', 'GABON', 'GUYANA', 'KIRIBATI', 'MADAGASCAR', 'BOTSWANA', 'NEW GUINEA', 'LAOS', 'ETHIOPIA', 'YEMEN', 'SUDAN', 'ERITREA', 'CONGO', 'MALAWI', 'MAURITANIA', 'TANZANIA', 'COMOROS', 'DJIBOUTI', 'SYRIA', 'NAMIBIA', 'SOUTH AFRICA', 'HAITI', 'GHANA', 'LIBERIA', 'AFGHANISTAN', 'ANGOLA', 'UGANDA', 'ZAMBIA', 'GAMBIA', 'ZIMBABWE', 'BENIN', 'TOGO', 'DR CONGO', 'BURKINA FASO', 'MOZAMBIQUE', 'BURUNDI', 'GUINEA-BISSAU', 'NIGER', 'GUINEA', 'EQU. GUINEA', 'SOUTH SUDAN', 'CAMEROON', 'MALI', 'SWAZILAND', 'SOMALIA', 'NIGERIA', 'COTE D IVOIRE', 'CHAD', 'SIERRA LEONE', 'CENTRAL AFRICA', 'LESOTHO']\n"
     ]
    }
   ],
   "source": [
    "data = getDataFromSite(country_list)"
   ]
  },
  {
   "cell_type": "code",
   "execution_count": 525,
   "metadata": {},
   "outputs": [
    {
     "data": {
      "text/plain": [
       "['BOSNIA/HERZEG.',\n",
       " 'ANTIGUA/BAR.',\n",
       " 'DOMINICAN REP.',\n",
       " 'TRINIDAD/TOB.',\n",
       " 'SOLOMON ISL.',\n",
       " 'GUINEA-BISSAU',\n",
       " 'GUINEA',\n",
       " 'EQU. GUINEA',\n",
       " 'CENTRAL AFRICA']"
      ]
     },
     "execution_count": 525,
     "metadata": {},
     "output_type": "execute_result"
    }
   ],
   "source": [
    "#missed scraped countries\n",
    "\n",
    "#data is a list collections of samples of 7countries per scrape\n",
    "#<img alt=\"Japan\" src=\"images/grid/jpn.png\" class=\"cause_rank_column_img\" title=\"Japan\">\n",
    "\n",
    "info = [each[0].find_all(\"img\", {\"class\":\"cause_rank_column_img\"}) for each in data]\n",
    "\n",
    "from itertools import chain\n",
    "\n",
    "#flatting the multiple list within the list\n",
    "info = list(chain.from_iterable(info))\n",
    "\n",
    "scrapedCountries = [each['title'] for each in info if each['title'] != 'World' ]\n",
    "\n",
    "scrapedCheckList = {each:False for each in country_list}\n",
    "\n",
    "for each in scrapedCountries:\n",
    "    scrapedCheckList[each.upper()] = True\n",
    "\n",
    "missedCountries = [countryName for countryName in scrapedCheckList if scrapedCheckList[countryName] == False]\n",
    "missedCountries"
   ]
  },
  {
   "cell_type": "code",
   "execution_count": 526,
   "metadata": {},
   "outputs": [
    {
     "name": "stdout",
     "output_type": "stream",
     "text": [
      "['BOSNIA/HERZEG.', 'ANTIGUA/BAR.', 'DOMINICAN REP.', 'TRINIDAD/TOB.', 'SOLOMON ISL.', 'GUINEA-BISSAU', 'GUINEA', 'EQU. GUINEA', 'CENTRAL AFRICA']\n"
     ]
    }
   ],
   "source": [
    "remainingData = getDataFromSite(missedCountries)  "
   ]
  },
  {
   "cell_type": "code",
   "execution_count": 527,
   "metadata": {},
   "outputs": [
    {
     "data": {
      "text/plain": [
       "[None, None]"
      ]
     },
     "execution_count": 527,
     "metadata": {},
     "output_type": "execute_result"
    }
   ],
   "source": [
    "[data.append(each) for each in remainingData]\n"
   ]
  },
  {
   "cell_type": "code",
   "execution_count": 528,
   "metadata": {},
   "outputs": [
    {
     "data": {
      "text/plain": [
       "29"
      ]
     },
     "execution_count": 528,
     "metadata": {},
     "output_type": "execute_result"
    }
   ],
   "source": [
    "len(data)"
   ]
  },
  {
   "cell_type": "code",
   "execution_count": 529,
   "metadata": {},
   "outputs": [],
   "source": [
    "with open ('ScrapedWebCauseOfDeathData', 'wb') as file:\n",
    "    pickle.dump(str(data), file)"
   ]
  },
  {
   "cell_type": "code",
   "execution_count": 530,
   "metadata": {},
   "outputs": [],
   "source": [
    "underdevelopedCountries = []\n",
    "developingCountries = []\n",
    "developedCountries = []"
   ]
  },
  {
   "cell_type": "code",
   "execution_count": 531,
   "metadata": {},
   "outputs": [],
   "source": [
    "#Undeveloped countries\n",
    "\n",
    "url =\"https://en.wikipedia.org/wiki/Least_Developed_Countries\"\n",
    "browser.visit(url)\n",
    "details = ScrapeTableInfo(*[\"div\", \"class\", \"mw-parser-output\"])\n",
    "#undeveloped countries\n",
    "partitions = details[0].find_all(\"ul\")\n",
    "x = partitions[3:9]\n",
    "#print(x)\n",
    "for each, count in zip(x, range(0, len(x))):\n",
    "    details = each.find_all(\"a\")\n",
    "    for each in details:\n",
    "        try:\n",
    "            #print(each)\n",
    "            underdevelopedCountries.append(each['title'])\n",
    "        except:\n",
    "            #print(each)\n",
    "            pass"
   ]
  },
  {
   "cell_type": "code",
   "execution_count": 532,
   "metadata": {},
   "outputs": [],
   "source": [
    "#DevelopingCountries\n",
    "\n",
    "url =\"https://en.wikipedia.org/wiki/Developing_country\"\n",
    "browser.visit(url)\n",
    "details = ScrapeTableInfo(*[\"div\", \"class\", \"mw-parser-output\"])\n",
    "partitions = details[0].find_all(\"div\", {\"class\":\"div-col columns column-width\"})\n",
    "for each in partitions[:1]:\n",
    "    details = each.find_all(\"a\")\n",
    "    for each in details[:-3]:\n",
    "        try:\n",
    "            developingCountries.append(each['title'])\n",
    "        except:\n",
    "            #print(each)\n",
    "            pass\n",
    "\n"
   ]
  },
  {
   "cell_type": "code",
   "execution_count": 533,
   "metadata": {},
   "outputs": [],
   "source": [
    "#DevelopedCountries\n",
    "\n",
    "url =\"https://en.wikipedia.org/wiki/Developed_country\"\n",
    "browser.visit(url)\n",
    "details = ScrapeTableInfo(*[\"div\", \"class\", \"mw-parser-output\"])\n",
    "partitions = details[0].find_all(\"div\", {\"class\":\"div-col columns column-width\"})\n",
    "for each in partitions[:6]:\n",
    "    details = each.find_all(\"a\")\n",
    "    for each in details:\n",
    "        try:\n",
    "            developedCountries.append(each['title'])\n",
    "        except:\n",
    "            #print(each)\n",
    "            pass"
   ]
  },
  {
   "cell_type": "code",
   "execution_count": 534,
   "metadata": {},
   "outputs": [],
   "source": [
    "# data consistency to 2017 year\n",
    "\n",
    "A = underdeveloped = set(underdevelopedCountries) \n",
    "B = developing = set(developingCountries)\n",
    "C = developed =  set(developedCountries)\n",
    "\n",
    "developing = B - (A & B)\n",
    "developed =  C - (B & C)\n",
    "\n",
    "\n",
    "underdevelopedCountries = list(underdeveloped)\n",
    "developingCountries = list(developing)\n",
    "developedCountries = list(developed)\n",
    "\n",
    "categoryData = {'underdeveloped':underdevelopedCountries, 'developing':developingCountries , 'developed':developedCountries}\n"
   ]
  },
  {
   "cell_type": "code",
   "execution_count": 535,
   "metadata": {},
   "outputs": [],
   "source": [
    "categorizedCountries = {}\n",
    "for category, countryList in categoryData.items():\n",
    "    for country in countryList:\n",
    "        categorizedCountries[country.upper()] = category\n",
    "\n",
    "#Amending some missing contexts        \n",
    "categorizedCountries['PUERTO RICO'] = 'developing'\n",
    "categorizedCountries['CUBA'] = 'developing'\n",
    "categorizedCountries['NORTH KOREA'] = 'underdeveloped'\n",
    "countriesCAT = categorizedCountries    "
   ]
  },
  {
   "cell_type": "code",
   "execution_count": 536,
   "metadata": {
    "scrolled": true
   },
   "outputs": [],
   "source": [
    "#countriesCAT.keys()"
   ]
  },
  {
   "cell_type": "code",
   "execution_count": 537,
   "metadata": {
    "scrolled": false
   },
   "outputs": [],
   "source": [
    "url =\"https://en.wikipedia.org/wiki/ISO_3166-1_alpha-3\"\n",
    "browser.visit(url)\n",
    "details = ScrapeTableInfo(*[\"div\", \"class\", \"plainlist\"])\n"
   ]
  },
  {
   "cell_type": "code",
   "execution_count": 538,
   "metadata": {},
   "outputs": [],
   "source": [
    "# No longer necessary with scrapedAbbr\n",
    "# For future use \n",
    "countriesISO = {}\n",
    "\n",
    "for each in details[0].find_all(\"li\"):\n",
    "    countryName = each.find(\"a\").text\n",
    "    countryAbbr = each.find(\"span\").text\n",
    "    countriesISO[countryAbbr] =  countryName\n",
    "    category = None\n",
    "    if countryName in countriesCAT.keys():\n",
    "        category = countriesCAT[countryName]\n",
    "    \n",
    "#CountriesISO"
   ]
  },
  {
   "cell_type": "code",
   "execution_count": 539,
   "metadata": {
    "scrolled": true
   },
   "outputs": [],
   "source": [
    "browser.quit()"
   ]
  },
  {
   "cell_type": "code",
   "execution_count": 540,
   "metadata": {},
   "outputs": [
    {
     "data": {
      "text/plain": [
       "[]"
      ]
     },
     "execution_count": 540,
     "metadata": {},
     "output_type": "execute_result"
    }
   ],
   "source": [
    "amendList = []\n",
    "\n",
    "for country, lifeExpectancy in zip(backup.items(), lifeSpan):\n",
    "    abbr = country[0]\n",
    "    eachCountry = country[1]\n",
    "    try:\n",
    "        scrapedAbbr[abbr] =  [backup[abbr], countriesCAT[eachCountry], lifeExpectancy] \n",
    "    except:\n",
    "        print(f\"not found/match {abbr} {eachCountry}\")\n",
    "        amendList.append((abbr, eachCountry))\n",
    "amendList"
   ]
  },
  {
   "cell_type": "code",
   "execution_count": 541,
   "metadata": {},
   "outputs": [],
   "source": [
    "#primary backup\n",
    "scrapedAbbr\n",
    "with open ('CountryAbbrCategoryData', 'wb') as file:\n",
    "    pickle.dump(scrapedAbbr, file)"
   ]
  },
  {
   "cell_type": "code",
   "execution_count": 542,
   "metadata": {},
   "outputs": [
    {
     "data": {
      "text/plain": [
       "{'JPN': ['JAPAN', 'developed', '84.2'],\n",
       " 'CHE': ['SWITZERLAND', 'developed', '83.3'],\n",
       " 'ESP': ['SPAIN', 'developed', '83.1'],\n",
       " 'SGP': ['SINGAPORE', 'developed', '82.9'],\n",
       " 'FRA': ['FRANCE', 'developed', '82.9'],\n",
       " 'AUS': ['AUSTRALIA', 'developed', '82.9'],\n",
       " 'CAN': ['CANADA', 'developed', '82.8'],\n",
       " 'ITA': ['ITALY', 'developed', '82.8'],\n",
       " 'KOR': ['SOUTH KOREA', 'developed', '82.7'],\n",
       " 'NOR': ['NORWAY', 'developed', '82.5'],\n",
       " 'LUX': ['LUXEMBOURG', 'developed', '82.4'],\n",
       " 'ISL': ['ICELAND', 'developed', '82.4'],\n",
       " 'SWE': ['SWEDEN', 'developed', '82.4'],\n",
       " 'ISR': ['ISRAEL', 'developed', '82.3'],\n",
       " 'NZL': ['NEW ZEALAND', 'developed', '82.2'],\n",
       " 'AUT': ['AUSTRIA', 'developed', '81.9'],\n",
       " 'NLD': ['NETHERLANDS', 'developed', '81.6'],\n",
       " 'IRL': ['REPUBLIC OF IRELAND', 'developed', '81.5'],\n",
       " 'PRT': ['PORTUGAL', 'developed', '81.5'],\n",
       " 'MLT': ['MALTA', 'developed', '81.5'],\n",
       " 'FIN': ['FINLAND', 'developed', '81.4'],\n",
       " 'GBR': ['UNITED KINGDOM', 'developed', '81.4'],\n",
       " 'DNK': ['DENMARK', 'developed', '81.2'],\n",
       " 'BEL': ['BELGIUM', 'developed', '81.2'],\n",
       " 'GRC': ['GREECE', 'developed', '81.2'],\n",
       " 'DEU': ['GERMANY', 'developed', '81'],\n",
       " 'SVN': ['SLOVENIA', 'developed', '80.9'],\n",
       " 'CYP': ['CYPRUS', 'developed', '80.7'],\n",
       " 'CRI': ['COSTA RICA', 'developing', '79.6'],\n",
       " 'CHL': ['CHILE', 'developing', '79.5'],\n",
       " 'CZE': ['CZECH REPUBLIC', 'developed', '79.2'],\n",
       " 'BHR': ['BAHRAIN', 'developing', '79.1'],\n",
       " 'CUB': ['CUBA', 'developing', '79'],\n",
       " 'USA': ['UNITED STATES', 'developed', '78.5'],\n",
       " 'MDV': ['MALDIVES', 'developing', '78.4'],\n",
       " 'HRV': ['CROATIA', 'developing', '78.3'],\n",
       " 'QAT': ['QATAR', 'developing', '78.1'],\n",
       " 'PAN': ['PANAMA', 'developing', '78'],\n",
       " 'EST': ['ESTONIA', 'developed', '77.8'],\n",
       " 'POL': ['POLAND', 'developing', '77.8'],\n",
       " 'SVK': ['SLOVAKIA', 'developed', '77.4'],\n",
       " 'BIH': ['BOSNIA AND HERZEGOVINA', 'developing', '77.3'],\n",
       " 'ARE': ['UNITED ARAB EMIRATES', 'developed', '77.2'],\n",
       " 'URY': ['URUGUAY', 'developing', '77.1'],\n",
       " 'OMN': ['OMAN', 'developing', '77'],\n",
       " 'ARG': ['ARGENTINA', 'developing', '76.9'],\n",
       " 'MNE': ['MONTENEGRO', 'developing', '76.8'],\n",
       " 'MEX': ['MEXICO', 'developing', '76.6'],\n",
       " 'ECU': ['ECUADOR', 'developing', '76.5'],\n",
       " 'BRN': ['BRUNEI', 'developing', '76.4'],\n",
       " 'CHN': ['CHINA', 'developing', '76.4'],\n",
       " 'TUR': ['TURKEY', 'developing', '76.4'],\n",
       " 'ALB': ['ALBANIA', 'developing', '76.4'],\n",
       " 'DZA': ['ALGERIA', 'developing', '76.4'],\n",
       " 'VNM': ['VIETNAM', 'developing', '76.3'],\n",
       " 'SRB': ['SERBIA', 'developing', '76.3'],\n",
       " 'LBN': ['LEBANON', 'developing', '76.3'],\n",
       " 'TUN': ['TUNISIA', 'developing', '76'],\n",
       " 'JAM': ['JAMAICA', 'developing', '76'],\n",
       " 'HUN': ['HUNGARY', 'developing', '76'],\n",
       " 'MAR': ['MOROCCO', 'developing', '76'],\n",
       " 'PER': ['PERU', 'developing', '75.9'],\n",
       " 'MKD': ['NORTH MACEDONIA', 'developing', '75.9'],\n",
       " 'IRN': ['IRAN', 'developing', '75.7'],\n",
       " 'BHS': ['THE BAHAMAS', 'developing', '75.7'],\n",
       " 'LCA': ['SAINT LUCIA', 'developing', '75.6'],\n",
       " 'BRB': ['BARBADOS', 'developing', '75.6'],\n",
       " 'NIC': ['NICARAGUA', 'developing', '75.5'],\n",
       " 'THA': ['THAILAND', 'developing', '75.5'],\n",
       " 'LKA': ['SRI LANKA', 'developing', '75.3'],\n",
       " 'MYS': ['MALAYSIA', 'developing', '75.3'],\n",
       " 'ROU': ['ROMANIA', 'developing', '75.2'],\n",
       " 'HND': ['HONDURAS', 'developing', '75.2'],\n",
       " 'BRA': ['BRAZIL', 'developing', '75.1'],\n",
       " 'COL': ['COLOMBIA', 'developing', '75.1'],\n",
       " 'WSM': ['SAMOA', 'developing', '75.1'],\n",
       " 'LTU': ['LITHUANIA', 'developed', '75'],\n",
       " 'ATG': ['ANTIGUA AND BARBUDA', 'developing', '75'],\n",
       " 'LVA': ['LATVIA', 'developed', '75'],\n",
       " 'BGR': ['BULGARIA', 'developing', '74.8'],\n",
       " 'ARM': ['ARMENIA', 'developing', '74.8'],\n",
       " 'MUS': ['MAURITIUS', 'developing', '74.8'],\n",
       " 'KWT': ['KUWAIT', 'developing', '74.8'],\n",
       " 'SAU': ['SAUDI ARABIA', 'developing', '74.8'],\n",
       " 'JOR': ['JORDAN', 'developing', '74.3'],\n",
       " 'PRY': ['PARAGUAY', 'developing', '74.2'],\n",
       " 'BLR': ['BELARUS', 'developing', '74.2'],\n",
       " 'VEN': ['VENEZUELA', 'developing', '74.1'],\n",
       " 'SLV': ['EL SALVADOR', 'developing', '73.7'],\n",
       " 'DOM': ['DOMINICAN REPUBLIC', 'developing', '73.5'],\n",
       " 'TON': ['TONGA', 'developing', '73.4'],\n",
       " 'GRD': ['GRENADA', 'developing', '73.4'],\n",
       " 'SYC': ['SEYCHELLES', 'developing', '73.3'],\n",
       " 'GTM': ['GUATEMALA', 'developing', '73.2'],\n",
       " 'CPV': ['CAPE VERDE', 'developing', '73.2'],\n",
       " 'AZE': ['AZERBAIJAN', 'developing', '73.1'],\n",
       " 'BGD': ['BANGLADESH', 'underdeveloped', '72.7'],\n",
       " 'GEO': ['GEORGIA (COUNTRY)', 'developing', '72.6'],\n",
       " 'UKR': ['UKRAINE', 'developing', '72.5'],\n",
       " 'UZB': ['UZBEKISTAN', 'developing', '72.3'],\n",
       " 'VUT': ['VANUATU', 'underdeveloped', '72'],\n",
       " 'VCT': ['SAINT VINCENT AND THE GRENADINES', 'developing', '72'],\n",
       " 'PRK': ['NORTH KOREA', 'underdeveloped', '71.9'],\n",
       " 'LBY': ['LIBYA', 'developing', '71.9'],\n",
       " 'RUS': ['RUSSIA', 'developing', '71.9'],\n",
       " 'TTO': ['TRINIDAD AND TOBAGO', 'developing', '71.8'],\n",
       " 'SUR': ['SURINAME', 'developing', '71.8'],\n",
       " 'BOL': ['BOLIVIA', 'developing', '71.5'],\n",
       " 'MDA': ['MOLDOVA', 'developing', '71.5'],\n",
       " 'KGZ': ['KYRGYZSTAN', 'developing', '71.4'],\n",
       " 'KAZ': ['KAZAKHSTAN', 'developing', '71.1'],\n",
       " 'SLB': ['SOLOMON ISLANDS', 'underdeveloped', '71.1'],\n",
       " 'TJK': ['TAJIKISTAN', 'developing', '70.8'],\n",
       " 'BTN': ['BHUTAN', 'underdeveloped', '70.6'],\n",
       " 'EGY': ['EGYPT', 'developing', '70.5'],\n",
       " 'BLZ': ['BELIZE', 'developing', '70.5'],\n",
       " 'NPL': ['NEPAL', 'underdeveloped', '70.2'],\n",
       " 'FJI': ['FIJI', 'developing', '69.9'],\n",
       " 'IRQ': ['IRAQ', 'developing', '69.8'],\n",
       " 'MNG': ['MONGOLIA', 'developing', '69.8'],\n",
       " 'FSM': ['FEDERATED STATES OF MICRONESIA', 'developing', '69.6'],\n",
       " 'KHM': ['CAMBODIA', 'underdeveloped', '69.4'],\n",
       " 'PHL': ['PHILIPPINES', 'developing', '69.3'],\n",
       " 'IDN': ['INDONESIA', 'developing', '69.3'],\n",
       " 'IND': ['INDIA', 'developing', '68.8'],\n",
       " 'STP': ['SÃO TOMÉ AND PRÍNCIPE', 'underdeveloped', '68.7'],\n",
       " 'TLS': ['EAST TIMOR', 'underdeveloped', '68.6'],\n",
       " 'TKM': ['TURKMENISTAN', 'developing', '68.2'],\n",
       " 'RWA': ['RWANDA', 'underdeveloped', '68'],\n",
       " 'MMR': ['MYANMAR', 'underdeveloped', '66.8'],\n",
       " 'SEN': ['SENEGAL', 'underdeveloped', '66.8'],\n",
       " 'KEN': ['KENYA', 'developing', '66.7'],\n",
       " 'PAK': ['PAKISTAN', 'developing', '66.5'],\n",
       " 'GAB': ['GABON', 'developing', '66.4'],\n",
       " 'GUY': ['GUYANA', 'developing', '66.2'],\n",
       " 'KIR': ['KIRIBATI', 'underdeveloped', '66.1'],\n",
       " 'MDG': ['MADAGASCAR', 'underdeveloped', '66.1'],\n",
       " 'BWA': ['BOTSWANA', 'developing', '66.1'],\n",
       " 'PNG': ['PAPUA NEW GUINEA', 'developing', '65.9'],\n",
       " 'LAO': ['LAOS', 'underdeveloped', '65.8'],\n",
       " 'ETH': ['ETHIOPIA', 'underdeveloped', '65.5'],\n",
       " 'YEM': ['YEMEN', 'underdeveloped', '65.3'],\n",
       " 'SDN': ['SUDAN', 'underdeveloped', '65.1'],\n",
       " 'ERI': ['ERITREA', 'underdeveloped', '65'],\n",
       " 'COG': ['REPUBLIC OF THE CONGO', 'developing', '64.3'],\n",
       " 'MWI': ['MALAWI', 'underdeveloped', '64.2'],\n",
       " 'MRT': ['MAURITANIA', 'underdeveloped', '63.9'],\n",
       " 'TZA': ['TANZANIA', 'underdeveloped', '63.9'],\n",
       " 'COM': ['COMOROS', 'underdeveloped', '63.9'],\n",
       " 'DJI': ['DJIBOUTI', 'underdeveloped', '63.8'],\n",
       " 'SYR': ['SYRIA', 'developing', '63.8'],\n",
       " 'NAM': ['NAMIBIA', 'developing', '63.7'],\n",
       " 'ZAF': ['SOUTH AFRICA', 'developing', '63.6'],\n",
       " 'HTI': ['HAITI', 'underdeveloped', '63.5'],\n",
       " 'GHA': ['GHANA', 'developing', '63.4'],\n",
       " 'LBR': ['LIBERIA', 'underdeveloped', '62.9'],\n",
       " 'AFG': ['AFGHANISTAN', 'underdeveloped', '62.7'],\n",
       " 'AGO': ['ANGOLA', 'underdeveloped', '62.6'],\n",
       " 'UGA': ['UGANDA', 'underdeveloped', '62.5'],\n",
       " 'ZMB': ['ZAMBIA', 'underdeveloped', '62.3'],\n",
       " 'GMB': ['THE GAMBIA', 'underdeveloped', '61.9'],\n",
       " 'ZWE': ['ZIMBABWE', 'developing', '61.4'],\n",
       " 'BEN': ['BENIN', 'underdeveloped', '61.1'],\n",
       " 'TGO': ['TOGO', 'underdeveloped', '60.6'],\n",
       " 'COD': ['DEMOCRATIC REPUBLIC OF THE CONGO', 'underdeveloped', '60.5'],\n",
       " 'BFA': ['BURKINA FASO', 'underdeveloped', '60.3'],\n",
       " 'MOZ': ['MOZAMBIQUE', 'underdeveloped', '60.1'],\n",
       " 'BDI': ['BURUNDI', 'underdeveloped', '60.1'],\n",
       " 'GNB': ['GUINEA-BISSAU', 'underdeveloped', '59.8'],\n",
       " 'NER': ['NIGER', 'underdeveloped', '59.8'],\n",
       " 'GIN': ['GUINEA', 'underdeveloped', '59.8'],\n",
       " 'GNQ': ['EQUATORIAL GUINEA', 'developing', '59.5'],\n",
       " 'SSD': ['SOUTH SUDAN', 'underdeveloped', '58.6'],\n",
       " 'CMR': ['CAMEROON', 'developing', '58.1'],\n",
       " 'MLI': ['MALI', 'underdeveloped', '58'],\n",
       " 'SWZ': ['ESWATINI', 'developing', '57.7'],\n",
       " 'SOM': ['SOMALIA', 'underdeveloped', '55.4'],\n",
       " 'NGA': ['NIGERIA', 'developing', '55.2'],\n",
       " 'CIV': ['IVORY COAST', 'developing', '54.6'],\n",
       " 'TCD': ['CHAD', 'underdeveloped', '54.3'],\n",
       " 'SLE': ['SIERRA LEONE', 'underdeveloped', '53.1'],\n",
       " 'CAF': ['CENTRAL AFRICAN REPUBLIC', 'underdeveloped', '53'],\n",
       " 'LSO': ['LESOTHO', 'underdeveloped', '52.9']}"
      ]
     },
     "execution_count": 542,
     "metadata": {},
     "output_type": "execute_result"
    }
   ],
   "source": [
    "scrapedAbbr"
   ]
  },
  {
   "cell_type": "code",
   "execution_count": 543,
   "metadata": {},
   "outputs": [
    {
     "data": {
      "text/plain": [
       "'\\nimport re\\n\\ndelimiters = \" \", \"/\", \".\", \"-\"\\nregexPattern = \\'|\\'.join(map(re.escape, delimiters))\\nprint(regexPattern)\\nfor each in needToAmend:\\n    print(re.split(regexPattern, each))\\n'"
      ]
     },
     "execution_count": 543,
     "metadata": {},
     "output_type": "execute_result"
    }
   ],
   "source": [
    "#For learning\n",
    "r\"\"\"\n",
    "import re\n",
    "\n",
    "delimiters = \" \", \"/\", \".\", \"-\"\n",
    "regexPattern = '|'.join(map(re.escape, delimiters))\n",
    "print(regexPattern)\n",
    "for each in needToAmend:\n",
    "    print(re.split(regexPattern, each))\n",
    "\"\"\""
   ]
  },
  {
   "cell_type": "code",
   "execution_count": 544,
   "metadata": {},
   "outputs": [
    {
     "data": {
      "text/plain": [
       "'\\nimport re\\ndef exist(a, b):\\n    return lambda a, b, c:re.search(a, b , re.IGNORECASE) and re.search(a, c , re.IGNORECASE)\\n\\nfor short, full in countriesIOS.items():\\n    #for error handling\\n    full.replace(\"\\\\(\", \"\")\\n    full.replace(\"\\\\)\", \" \")\\n    partial = full.lower().split(\\' \\')\\n    if len(partial) >= 2:\\n        for name in countriesCAT.keys():\\n            print(name)\\n            if (partial[0] in name.lower() and partial[1] in name.lower()):\\n                print(name)\\n'"
      ]
     },
     "execution_count": 544,
     "metadata": {},
     "output_type": "execute_result"
    }
   ],
   "source": [
    "# sloww....\n",
    "#For learning\n",
    "r\"\"\"\n",
    "import re\n",
    "def exist(a, b):\n",
    "    return lambda a, b, c:re.search(a, b , re.IGNORECASE) and re.search(a, c , re.IGNORECASE)\n",
    "\n",
    "for short, full in countriesIOS.items():\n",
    "    #for error handling\n",
    "    full.replace(\"\\(\", \"\")\n",
    "    full.replace(\"\\)\", \" \")\n",
    "    partial = full.lower().split(' ')\n",
    "    if len(partial) >= 2:\n",
    "        for name in countriesCAT.keys():\n",
    "            print(name)\n",
    "            if (partial[0] in name.lower() and partial[1] in name.lower()):\n",
    "                print(name)\n",
    "\"\"\"\n",
    "    "
   ]
  },
  {
   "cell_type": "code",
   "execution_count": 546,
   "metadata": {},
   "outputs": [
    {
     "name": "stdout",
     "output_type": "stream",
     "text": [
      "Stored 'WebScrapingData' (dict)\n"
     ]
    }
   ],
   "source": [
    "pandaData = data\n",
    "countriesDetails = scrapedAbbr\n",
    "#WebScrapingData = [pandaData, countriesDetails ]\n",
    "WebScrapingData = countriesDetails\n",
    "%store WebScrapingData"
   ]
  },
  {
   "cell_type": "code",
   "execution_count": null,
   "metadata": {},
   "outputs": [],
   "source": []
  }
 ],
 "metadata": {
  "kernelspec": {
   "display_name": "Python 3",
   "language": "python",
   "name": "python3"
  },
  "language_info": {
   "codemirror_mode": {
    "name": "ipython",
    "version": 3
   },
   "file_extension": ".py",
   "mimetype": "text/x-python",
   "name": "python",
   "nbconvert_exporter": "python",
   "pygments_lexer": "ipython3",
   "version": "3.7.1"
  },
  "varInspector": {
   "cols": {
    "lenName": 16,
    "lenType": 16,
    "lenVar": 40
   },
   "kernels_config": {
    "python": {
     "delete_cmd_postfix": "",
     "delete_cmd_prefix": "del ",
     "library": "var_list.py",
     "varRefreshCmd": "print(var_dic_list())"
    },
    "r": {
     "delete_cmd_postfix": ") ",
     "delete_cmd_prefix": "rm(",
     "library": "var_list.r",
     "varRefreshCmd": "cat(var_dic_list()) "
    }
   },
   "types_to_exclude": [
    "module",
    "function",
    "builtin_function_or_method",
    "instance",
    "_Feature"
   ],
   "window_display": false
  }
 },
 "nbformat": 4,
 "nbformat_minor": 2
}
