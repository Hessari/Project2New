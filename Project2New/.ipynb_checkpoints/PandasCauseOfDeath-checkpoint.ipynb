{
 "cells": [
  {
   "cell_type": "code",
   "execution_count": 1,
   "metadata": {},
   "outputs": [
    {
     "name": "stdout",
     "output_type": "stream",
     "text": [
      "['JAPAN', 'SWITZERLAND', 'SPAIN', 'SINGAPORE', 'FRANCE', 'AUSTRALIA', 'CANADA', 'ITALY', 'SOUTH KOREA', 'NORWAY', 'LUXEMBOURG', 'ICELAND', 'SWEDEN', 'ISRAEL', 'NEW ZEALAND', 'AUSTRIA', 'NETHERLANDS', 'IRELAND', 'PORTUGAL', 'MALTA', 'FINLAND', 'UNITED KINGDOM', 'DENMARK', 'BELGIUM', 'GREECE', 'GERMANY', 'SLOVENIA', 'CYPRUS', 'COSTA RICA', 'CHILE', 'CZECH REPUBLIC', 'BAHRAIN', 'CUBA', 'UNITED STATES', 'MALDIVES', 'CROATIA', 'QATAR', 'PANAMA', 'ESTONIA', 'POLAND', 'SLOVAKIA', 'BOSNIA/HERZEG.', 'ARAB EMIRATES', 'URUGUAY', 'OMAN', 'ARGENTINA', 'MONTENEGRO', 'MEXICO', 'ECUADOR', 'BRUNEI', 'CHINA', 'TURKEY', 'ALBANIA', 'ALGERIA', 'VIET NAM', 'SERBIA', 'LEBANON', 'TUNISIA', 'JAMAICA', 'HUNGARY', 'MOROCCO', 'PERU', 'MACEDONIA', 'IRAN', 'BAHAMAS', 'SAINT LUCIA', 'BARBADOS', 'NICARAGUA', 'THAILAND', 'SRI LANKA', 'MALAYSIA', 'ROMANIA', 'HONDURAS', 'BRAZIL', 'COLOMBIA', 'SAMOA', 'LITHUANIA', 'ANTIGUA/BAR.', 'LATVIA', 'BULGARIA', 'ARMENIA', 'MAURITIUS', 'KUWAIT', 'SAUDI ARABIA', 'JORDAN', 'PARAGUAY', 'BELARUS', 'VENEZUELA', 'EL SALVADOR', 'DOMINICAN REP.', 'TONGA', 'GRENADA', 'SEYCHELLES', 'GUATEMALA', 'CAPE VERDE', 'AZERBAIJAN', 'BANGLADESH', 'GEORGIA', 'UKRAINE', 'UZBEKISTAN', 'VANUATU', 'SAINT VINCENT', 'NORTH KOREA', 'LIBYA', 'RUSSIA', 'TRINIDAD/TOB.', 'SURINAME', 'BOLIVIA', 'MOLDOVA', 'KYRGYZSTAN', 'KAZAKHSTAN', 'SOLOMON ISL.', 'TAJIKISTAN', 'BHUTAN', 'EGYPT', 'BELIZE', 'NEPAL', 'FIJI', 'IRAQ', 'MONGOLIA', 'MICRONESIA', 'CAMBODIA', 'PHILIPPINES', 'INDONESIA', 'INDIA', 'SAO TOME', 'TIMOR-LESTE', 'TURKMENISTAN', 'RWANDA', 'MYANMAR', 'SENEGAL', 'KENYA', 'PAKISTAN', 'GABON', 'GUYANA', 'KIRIBATI', 'MADAGASCAR', 'BOTSWANA', 'NEW GUINEA', 'LAOS', 'ETHIOPIA', 'YEMEN', 'SUDAN', 'ERITREA', 'CONGO', 'MALAWI', 'MAURITANIA', 'TANZANIA', 'COMOROS', 'DJIBOUTI', 'SYRIA', 'NAMIBIA', 'SOUTH AFRICA', 'HAITI', 'GHANA', 'LIBERIA', 'AFGHANISTAN', 'ANGOLA', 'UGANDA', 'ZAMBIA', 'GAMBIA', 'ZIMBABWE', 'BENIN', 'TOGO', 'DR CONGO', 'BURKINA FASO', 'MOZAMBIQUE', 'BURUNDI', 'GUINEA-BISSAU', 'NIGER', 'GUINEA', 'EQU. GUINEA', 'SOUTH SUDAN', 'CAMEROON', 'MALI', 'SWAZILAND', 'SOMALIA', 'NIGERIA', 'COTE D IVOIRE', 'CHAD', 'SIERRA LEONE', 'CENTRAL AFRICA', 'LESOTHO']\n",
      "['BOSNIA/HERZEG.', 'ANTIGUA/BAR.', 'DOMINICAN REP.', 'TRINIDAD/TOB.', 'SOLOMON ISL.', 'GUINEA-BISSAU', 'GUINEA', 'EQU. GUINEA', 'CENTRAL AFRICA']\n",
      "Stored 'WebScrapingData' (dict)\n"
     ]
    }
   ],
   "source": [
    "#>>> pd.DataFrame.from_dict(data, orient='index')\n",
    "%run WebScrapeForLifeExpectancyData.ipynb"
   ]
  },
  {
   "cell_type": "code",
   "execution_count": 31,
   "metadata": {
    "scrolled": false
   },
   "outputs": [],
   "source": [
    "#only load to memory once...\n",
    "%store -r  WebScrapingData\n",
    "#countriesAbbrDetails = WebScrapingData\n",
    "#WebScrapingData\n"
   ]
  },
  {
   "cell_type": "code",
   "execution_count": 35,
   "metadata": {},
   "outputs": [],
   "source": [
    "# back up when screwing up with original data operations...\n",
    "import pickle \n",
    "with open ('CountryAbbrCategoryData', 'rb') as file:\n",
    "    data = pickle.load(file)\n",
    "WebScrapingData = data"
   ]
  },
  {
   "cell_type": "code",
   "execution_count": 189,
   "metadata": {},
   "outputs": [
    {
     "data": {
      "text/plain": [
       "183"
      ]
     },
     "execution_count": 189,
     "metadata": {},
     "output_type": "execute_result"
    }
   ],
   "source": [
    "len(WebScrapingData)"
   ]
  },
  {
   "cell_type": "code",
   "execution_count": 5,
   "metadata": {},
   "outputs": [],
   "source": [
    "# New stuff to learn\n",
    "import pickle \n",
    "with open ('ScrapedWebCauseOfDeathData', 'rb') as file:\n",
    "    data = pickle.load(file)"
   ]
  },
  {
   "cell_type": "code",
   "execution_count": 188,
   "metadata": {},
   "outputs": [
    {
     "data": {
      "text/plain": [
       "183"
      ]
     },
     "execution_count": 188,
     "metadata": {},
     "output_type": "execute_result"
    }
   ],
   "source": [
    "len(data)"
   ]
  },
  {
   "cell_type": "code",
   "execution_count": 6,
   "metadata": {},
   "outputs": [],
   "source": [
    "import pandas as pd\n",
    "allData = pd.read_html(data)\n",
    "#take a long time to load"
   ]
  },
  {
   "cell_type": "code",
   "execution_count": 141,
   "metadata": {},
   "outputs": [
    {
     "data": {
      "text/html": [
       "<div>\n",
       "<style scoped>\n",
       "    .dataframe tbody tr th:only-of-type {\n",
       "        vertical-align: middle;\n",
       "    }\n",
       "\n",
       "    .dataframe tbody tr th {\n",
       "        vertical-align: top;\n",
       "    }\n",
       "\n",
       "    .dataframe thead tr th {\n",
       "        text-align: left;\n",
       "    }\n",
       "</style>\n",
       "<table border=\"1\" class=\"dataframe\">\n",
       "  <thead>\n",
       "    <tr>\n",
       "      <th></th>\n",
       "      <th>INSTRUCTIONS  $(\".instructions_button\").click(function(){  var aTag = $(\"a[name='instructions']\");  $('html,body').animate({scrollTop: aTag.offset().top},'slow');  });  Cause of Death</th>\n",
       "      <th>7,405,122,224 WLD</th>\n",
       "      <th>126,451,398 JPN</th>\n",
       "      <th>8,236,303 CHE</th>\n",
       "      <th>48,958,159 ESP</th>\n",
       "      <th>5,888,926 SGP</th>\n",
       "      <th>67,106,161 FRA</th>\n",
       "      <th>23,232,413 AUS</th>\n",
       "      <th>35,623,680 CAN</th>\n",
       "      <th>Unnamed: 9_level_0</th>\n",
       "      <th>Unnamed: 10_level_0</th>\n",
       "      <th>Unnamed: 11_level_0</th>\n",
       "      <th>Unnamed: 12_level_0</th>\n",
       "      <th>Unnamed: 13_level_0</th>\n",
       "      <th>Unnamed: 14_level_0</th>\n",
       "      <th>Unnamed: 15_level_0</th>\n",
       "      <th>Unnamed: 16_level_0</th>\n",
       "    </tr>\n",
       "    <tr>\n",
       "      <th></th>\n",
       "      <th>Rnk</th>\n",
       "      <th>Deaths</th>\n",
       "      <th>Rnk</th>\n",
       "      <th>Deaths</th>\n",
       "      <th>Rnk</th>\n",
       "      <th>Deaths</th>\n",
       "      <th>Rnk</th>\n",
       "      <th>Deaths</th>\n",
       "      <th>Rnk</th>\n",
       "      <th>Deaths</th>\n",
       "      <th>Rnk</th>\n",
       "      <th>Deaths</th>\n",
       "      <th>Rnk</th>\n",
       "      <th>Deaths</th>\n",
       "      <th>Rnk</th>\n",
       "      <th>Deaths</th>\n",
       "      <th>Unnamed: 16_level_1</th>\n",
       "    </tr>\n",
       "  </thead>\n",
       "  <tbody>\n",
       "    <tr>\n",
       "      <th>0</th>\n",
       "      <td>Coronary Heart Disease</td>\n",
       "      <td>1</td>\n",
       "      <td>8727670</td>\n",
       "      <td>1</td>\n",
       "      <td>155766</td>\n",
       "      <td>1</td>\n",
       "      <td>11436</td>\n",
       "      <td>1</td>\n",
       "      <td>53101</td>\n",
       "      <td>2</td>\n",
       "      <td>4901</td>\n",
       "      <td>1</td>\n",
       "      <td>62890</td>\n",
       "      <td>1</td>\n",
       "      <td>23153</td>\n",
       "      <td>1</td>\n",
       "      <td>37876</td>\n",
       "    </tr>\n",
       "    <tr>\n",
       "      <th>1</th>\n",
       "      <td>Stroke</td>\n",
       "      <td>2</td>\n",
       "      <td>6221072</td>\n",
       "      <td>3</td>\n",
       "      <td>130159</td>\n",
       "      <td>3</td>\n",
       "      <td>3661</td>\n",
       "      <td>3</td>\n",
       "      <td>28192</td>\n",
       "      <td>4</td>\n",
       "      <td>1806</td>\n",
       "      <td>3</td>\n",
       "      <td>34220</td>\n",
       "      <td>3</td>\n",
       "      <td>10516</td>\n",
       "      <td>5</td>\n",
       "      <td>12693</td>\n",
       "    </tr>\n",
       "    <tr>\n",
       "      <th>2</th>\n",
       "      <td>Influenza and Pneumonia</td>\n",
       "      <td>3</td>\n",
       "      <td>3177204</td>\n",
       "      <td>2</td>\n",
       "      <td>145866</td>\n",
       "      <td>8</td>\n",
       "      <td>1865</td>\n",
       "      <td>7</td>\n",
       "      <td>11240</td>\n",
       "      <td>1</td>\n",
       "      <td>5340</td>\n",
       "      <td>5</td>\n",
       "      <td>21096</td>\n",
       "      <td>8</td>\n",
       "      <td>4151</td>\n",
       "      <td>8</td>\n",
       "      <td>6391</td>\n",
       "    </tr>\n",
       "  </tbody>\n",
       "</table>\n",
       "</div>"
      ],
      "text/plain": [
       "  INSTRUCTIONS  $(\".instructions_button\").click(function(){  var aTag = $(\"a[name='instructions']\");  $('html,body').animate({scrollTop: aTag.offset().top},'slow');  });  Cause of Death  \\\n",
       "                                                                                                                                                                                      Rnk   \n",
       "0                             Coronary Heart Disease                                                                                                                                        \n",
       "1                                             Stroke                                                                                                                                        \n",
       "2                            Influenza and Pneumonia                                                                                                                                        \n",
       "\n",
       "  7,405,122,224 WLD 126,451,398 JPN 8,236,303 CHE 48,958,159 ESP  \\\n",
       "             Deaths             Rnk        Deaths            Rnk   \n",
       "0                 1         8727670             1         155766   \n",
       "1                 2         6221072             3         130159   \n",
       "2                 3         3177204             2         145866   \n",
       "\n",
       "  5,888,926 SGP 67,106,161 FRA 23,232,413 AUS 35,623,680 CAN  \\\n",
       "         Deaths            Rnk         Deaths            Rnk   \n",
       "0             1          11436              1          53101   \n",
       "1             3           3661              3          28192   \n",
       "2             8           1865              7          11240   \n",
       "\n",
       "  Unnamed: 9_level_0 Unnamed: 10_level_0 Unnamed: 11_level_0  \\\n",
       "              Deaths                 Rnk              Deaths   \n",
       "0                  2                4901                   1   \n",
       "1                  4                1806                   3   \n",
       "2                  1                5340                   5   \n",
       "\n",
       "  Unnamed: 12_level_0 Unnamed: 13_level_0 Unnamed: 14_level_0  \\\n",
       "                  Rnk              Deaths                 Rnk   \n",
       "0               62890                   1               23153   \n",
       "1               34220                   3               10516   \n",
       "2               21096                   8                4151   \n",
       "\n",
       "  Unnamed: 15_level_0 Unnamed: 16_level_0  \n",
       "               Deaths Unnamed: 16_level_1  \n",
       "0                   1               37876  \n",
       "1                   5               12693  \n",
       "2                   8                6391  "
      ]
     },
     "execution_count": 141,
     "metadata": {},
     "output_type": "execute_result"
    }
   ],
   "source": [
    "#deep copy of each dataframe for ease of debugging\n",
    "\n",
    "processedData = [each.copy() for each in allData]\n",
    "processedData[0].head(3)"
   ]
  },
  {
   "cell_type": "code",
   "execution_count": 142,
   "metadata": {},
   "outputs": [],
   "source": [
    "worldPopulations = [] \n",
    "#x  = processedData\n",
    "#processedData = processedData[:2]\n",
    "#clean up the data \n",
    "for df, firstTime in zip(processedData, range(1, len(processedData)+1)):\n",
    "        #print(f\"{df.columns.nlevels} column n level\")\n",
    "        #attempts to extract details of countries per data frame\n",
    "        extractedCountries = [countryName for countryName in df.columns.get_level_values(0)]\n",
    "        \n",
    "        #Realign of columns for dropping\n",
    "        index = [index for index  in df.columns.get_level_values(1)]\n",
    "        index = [index.pop()] + index\n",
    "        df.columns = index\n",
    "        #drop ranking of each disease for each country \n",
    "        df.drop(df.columns[1], axis=1, inplace=True)\n",
    "        #a = df.drop(df.columns[1], axis=1)\n",
    "        \n",
    "        #country and population per frame (7?)\n",
    "        start = (1%firstTime)\n",
    "        #print(f\"{start} > {len(df.columns)}\" )\n",
    "        countriesPopulationsPerFrame =[each.split(\" \") for each in extractedCountries[1:len(df.columns)]]\n",
    "        worldPopulations = worldPopulations + countriesPopulationsPerFrame[start:]\n",
    "        #print(worldPopulations)\n",
    "        #becareful of corrupting the dataFrame\n",
    "        countriesNames = [name[1] for name in countriesPopulationsPerFrame]\n",
    "        #print(countriesNames)\n",
    "        df.columns = ['Cause of Death'] + countriesNames\n",
    "\n",
    "\n",
    "\n"
   ]
  },
  {
   "cell_type": "code",
   "execution_count": 143,
   "metadata": {},
   "outputs": [
    {
     "data": {
      "text/plain": [
       "183"
      ]
     },
     "execution_count": 143,
     "metadata": {},
     "output_type": "execute_result"
    }
   ],
   "source": [
    "df = pd.concat(processedData, axis=1)\n",
    "#empty.drop(columns=['WLD'], axis=1)\n",
    "df = df.loc[:, ~df.columns.duplicated()]\n",
    "len(df.columns)"
   ]
  },
  {
   "cell_type": "code",
   "execution_count": 198,
   "metadata": {},
   "outputs": [
    {
     "data": {
      "text/html": [
       "<div>\n",
       "<style scoped>\n",
       "    .dataframe tbody tr th:only-of-type {\n",
       "        vertical-align: middle;\n",
       "    }\n",
       "\n",
       "    .dataframe tbody tr th {\n",
       "        vertical-align: top;\n",
       "    }\n",
       "\n",
       "    .dataframe thead th {\n",
       "        text-align: right;\n",
       "    }\n",
       "</style>\n",
       "<table border=\"1\" class=\"dataframe\">\n",
       "  <thead>\n",
       "    <tr style=\"text-align: right;\">\n",
       "      <th></th>\n",
       "      <th>Abbr</th>\n",
       "      <th>Population</th>\n",
       "    </tr>\n",
       "  </thead>\n",
       "  <tbody>\n",
       "    <tr>\n",
       "      <th>0</th>\n",
       "      <td>WLD</td>\n",
       "      <td>7405122224</td>\n",
       "    </tr>\n",
       "    <tr>\n",
       "      <th>1</th>\n",
       "      <td>JPN</td>\n",
       "      <td>126451398</td>\n",
       "    </tr>\n",
       "    <tr>\n",
       "      <th>2</th>\n",
       "      <td>CHE</td>\n",
       "      <td>8236303</td>\n",
       "    </tr>\n",
       "  </tbody>\n",
       "</table>\n",
       "</div>"
      ],
      "text/plain": [
       "  Abbr  Population\n",
       "0  WLD  7405122224\n",
       "1  JPN   126451398\n",
       "2  CHE     8236303"
      ]
     },
     "execution_count": 198,
     "metadata": {},
     "output_type": "execute_result"
    }
   ],
   "source": [
    "#WebScrapingData\n",
    "#worldPopulations = list(set(worldPopulations))\n",
    "import numpy as np \n",
    "worldPopulations \n",
    "x = pd.DataFrame(list(zip(*worldPopulations)))\n",
    "x = x.transpose()\n",
    "x.columns = ['Population', 'Abbr']\n",
    "x = x.reindex(columns =['Abbr', 'Population'])\n",
    "\n",
    "x['Population'] = x['Population'].str.replace(',', '').astype(np.int64)\n",
    "#x.reset_index(inplace=True)\n",
    "x.drop_duplicates(inplace=True)\n",
    "#x.loc[:, :].sort_values(by =\"Abbr\", ascending=True)\n",
    "population = x\n",
    "population.head(3)"
   ]
  },
  {
   "cell_type": "code",
   "execution_count": 108,
   "metadata": {},
   "outputs": [],
   "source": [
    "countriesAbbrDetails = WebScrapingData.copy()"
   ]
  },
  {
   "cell_type": "code",
   "execution_count": 197,
   "metadata": {},
   "outputs": [],
   "source": [
    "countriesAbbrDetails\n",
    "worldDetails = pd.DataFrame.from_dict(countriesAbbrDetails, orient='index')\n",
    "#worldDetails['Country'].replace('\\t', '')\n",
    "worldDetails.reset_index(inplace=True)\n",
    "worldDetails.columns = ['Abbr','Country', 'Category', 'LifeExpectancy']\n",
    "worldDetails\n",
    "\n",
    "overAll = pd.merge(worldDetails, population, on=['Abbr'], how='outer')\n",
    "\n",
    "overAll[overAll['Category'].isnull()]\n",
    "#verAll['Population'] = overAll['Population'].astype(np.int64)\n",
    "overAll.to_csv('CountriesAbbr_Cat_LifeExp_Pol.csv')\n",
    "#partial match\n",
    "#worldDetails[worldDetails['Category'].str.contains('developed')]\n",
    "#worldDetails.to_csv('CountryCat_Popo_Life.')"
   ]
  },
  {
   "cell_type": "code",
   "execution_count": 169,
   "metadata": {},
   "outputs": [
    {
     "data": {
      "text/html": [
       "<div>\n",
       "<style scoped>\n",
       "    .dataframe tbody tr th:only-of-type {\n",
       "        vertical-align: middle;\n",
       "    }\n",
       "\n",
       "    .dataframe tbody tr th {\n",
       "        vertical-align: top;\n",
       "    }\n",
       "\n",
       "    .dataframe thead th {\n",
       "        text-align: right;\n",
       "    }\n",
       "</style>\n",
       "<table border=\"1\" class=\"dataframe\">\n",
       "  <thead>\n",
       "    <tr style=\"text-align: right;\">\n",
       "      <th></th>\n",
       "      <th>Cause of Death</th>\n",
       "      <th>WLD</th>\n",
       "      <th>JPN</th>\n",
       "      <th>CHE</th>\n",
       "      <th>ESP</th>\n",
       "      <th>SGP</th>\n",
       "      <th>FRA</th>\n",
       "      <th>AUS</th>\n",
       "      <th>CAN</th>\n",
       "      <th>ITA</th>\n",
       "      <th>...</th>\n",
       "      <th>CMR</th>\n",
       "      <th>MLI</th>\n",
       "      <th>SWZ</th>\n",
       "      <th>SOM</th>\n",
       "      <th>NGA</th>\n",
       "      <th>CIV</th>\n",
       "      <th>TCD</th>\n",
       "      <th>SLE</th>\n",
       "      <th>CAF</th>\n",
       "      <th>LSO</th>\n",
       "    </tr>\n",
       "  </thead>\n",
       "  <tbody>\n",
       "    <tr>\n",
       "      <th>0</th>\n",
       "      <td>Coronary Heart Disease</td>\n",
       "      <td>8727670</td>\n",
       "      <td>155766</td>\n",
       "      <td>11436</td>\n",
       "      <td>53101</td>\n",
       "      <td>4901</td>\n",
       "      <td>62890</td>\n",
       "      <td>23153</td>\n",
       "      <td>37876</td>\n",
       "      <td>108924</td>\n",
       "      <td>...</td>\n",
       "      <td>12159</td>\n",
       "      <td>8394</td>\n",
       "      <td>732</td>\n",
       "      <td>2841</td>\n",
       "      <td>76410</td>\n",
       "      <td>16622</td>\n",
       "      <td>5921</td>\n",
       "      <td>4464</td>\n",
       "      <td>2685</td>\n",
       "      <td>1339</td>\n",
       "    </tr>\n",
       "    <tr>\n",
       "      <th>1</th>\n",
       "      <td>Stroke</td>\n",
       "      <td>6221072</td>\n",
       "      <td>130159</td>\n",
       "      <td>3661</td>\n",
       "      <td>28192</td>\n",
       "      <td>1806</td>\n",
       "      <td>34220</td>\n",
       "      <td>10516</td>\n",
       "      <td>12693</td>\n",
       "      <td>62431</td>\n",
       "      <td>...</td>\n",
       "      <td>14056</td>\n",
       "      <td>8915</td>\n",
       "      <td>662</td>\n",
       "      <td>3923</td>\n",
       "      <td>83379</td>\n",
       "      <td>17644</td>\n",
       "      <td>7044</td>\n",
       "      <td>4757</td>\n",
       "      <td>3899</td>\n",
       "      <td>1258</td>\n",
       "    </tr>\n",
       "    <tr>\n",
       "      <th>2</th>\n",
       "      <td>Influenza and Pneumonia</td>\n",
       "      <td>3177204</td>\n",
       "      <td>145866</td>\n",
       "      <td>1865</td>\n",
       "      <td>11240</td>\n",
       "      <td>5340</td>\n",
       "      <td>21096</td>\n",
       "      <td>4151</td>\n",
       "      <td>6391</td>\n",
       "      <td>13823</td>\n",
       "      <td>...</td>\n",
       "      <td>25344</td>\n",
       "      <td>14855</td>\n",
       "      <td>933</td>\n",
       "      <td>19694</td>\n",
       "      <td>305460</td>\n",
       "      <td>32690</td>\n",
       "      <td>28374</td>\n",
       "      <td>10315</td>\n",
       "      <td>6957</td>\n",
       "      <td>1896</td>\n",
       "    </tr>\n",
       "  </tbody>\n",
       "</table>\n",
       "<p>3 rows × 183 columns</p>\n",
       "</div>"
      ],
      "text/plain": [
       "            Cause of Death      WLD     JPN    CHE    ESP   SGP    FRA    AUS  \\\n",
       "0   Coronary Heart Disease  8727670  155766  11436  53101  4901  62890  23153   \n",
       "1                   Stroke  6221072  130159   3661  28192  1806  34220  10516   \n",
       "2  Influenza and Pneumonia  3177204  145866   1865  11240  5340  21096   4151   \n",
       "\n",
       "     CAN     ITA  ...     CMR    MLI  SWZ    SOM     NGA    CIV    TCD    SLE  \\\n",
       "0  37876  108924  ...   12159   8394  732   2841   76410  16622   5921   4464   \n",
       "1  12693   62431  ...   14056   8915  662   3923   83379  17644   7044   4757   \n",
       "2   6391   13823  ...   25344  14855  933  19694  305460  32690  28374  10315   \n",
       "\n",
       "    CAF   LSO  \n",
       "0  2685  1339  \n",
       "1  3899  1258  \n",
       "2  6957  1896  \n",
       "\n",
       "[3 rows x 183 columns]"
      ]
     },
     "execution_count": 169,
     "metadata": {},
     "output_type": "execute_result"
    }
   ],
   "source": [
    "df.to_csv(\"CauseOfDeathPerCountry.csv\")\n",
    "df.head(3)"
   ]
  },
  {
   "cell_type": "code",
   "execution_count": 518,
   "metadata": {
    "scrolled": false
   },
   "outputs": [
    {
     "data": {
      "text/plain": [
       "'\\nextractData = []\\nselection = 7 \\nfor eachDataSet in allData:\\n    df = eachDataSet\\n    #print(df.columns.get_level_values(0))\\n    details = [key for key in df.columns.get_level_values(0)]\\n    [extractData.append(each.split(\" \")) for each in details[1:selection+2]]\\n\\n    #print(extractData)\\n\\nres1, res2 = map(list, zip(*extractData))\\n\\nfor each in extractData:\\n    print(each)\\n'"
      ]
     },
     "execution_count": 518,
     "metadata": {},
     "output_type": "execute_result"
    }
   ],
   "source": [
    "# For learning purpose\n",
    "# multi level indexes\n",
    "'''\n",
    "df[0].columns.nlevels\n",
    "df[0].index.nlevels\n",
    "'''\n",
    "\n",
    "r\"\"\"\n",
    "extractData = []\n",
    "selection = 7 \n",
    "for eachDataSet in allData:\n",
    "    df = eachDataSet\n",
    "    #print(df.columns.get_level_values(0))\n",
    "    details = [key for key in df.columns.get_level_values(0)]\n",
    "    [extractData.append(each.split(\" \")) for each in details[1:selection+2]]\n",
    "\n",
    "    #print(extractData)\n",
    "\n",
    "res1, res2 = map(list, zip(*extractData))\n",
    "\n",
    "for each in extractData:\n",
    "    print(each)\n",
    "\"\"\""
   ]
  },
  {
   "cell_type": "code",
   "execution_count": null,
   "metadata": {},
   "outputs": [],
   "source": []
  }
 ],
 "metadata": {
  "kernelspec": {
   "display_name": "Python 3",
   "language": "python",
   "name": "python3"
  },
  "language_info": {
   "codemirror_mode": {
    "name": "ipython",
    "version": 3
   },
   "file_extension": ".py",
   "mimetype": "text/x-python",
   "name": "python",
   "nbconvert_exporter": "python",
   "pygments_lexer": "ipython3",
   "version": "3.7.1"
  },
  "varInspector": {
   "cols": {
    "lenName": 16,
    "lenType": 16,
    "lenVar": 40
   },
   "kernels_config": {
    "python": {
     "delete_cmd_postfix": "",
     "delete_cmd_prefix": "del ",
     "library": "var_list.py",
     "varRefreshCmd": "print(var_dic_list())"
    },
    "r": {
     "delete_cmd_postfix": ") ",
     "delete_cmd_prefix": "rm(",
     "library": "var_list.r",
     "varRefreshCmd": "cat(var_dic_list()) "
    }
   },
   "types_to_exclude": [
    "module",
    "function",
    "builtin_function_or_method",
    "instance",
    "_Feature"
   ],
   "window_display": false
  }
 },
 "nbformat": 4,
 "nbformat_minor": 2
}
